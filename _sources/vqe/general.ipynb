{
 "cells": [
  {
   "cell_type": "markdown",
   "metadata": {},
   "source": [
    "# A General Case\n",
    "\n",
    "Author(s): Kyle Godbey\n",
    "Maintainer: Kyle Godbey\n",
    "\n",
    "To take this particular problem to its natural conclusion, we will be now devising a way to automatically generate our Hamiltonian and ansatz circuits based on what basis dimension we want to calculate.\n",
    "\n",
    "To do this in the most straightforward manner, I will first implement the Hamiltonian in second quantization before mapping it to a Pauli representation. To help out, I'll be importing some tools from qiskit as well as pennylane, proving that frameworks can indeed work together!"
   ]
  },
  {
   "cell_type": "code",
   "execution_count": 4,
   "metadata": {},
   "outputs": [],
   "source": [
    "%matplotlib inline\n",
    "\n",
    "import matplotlib.pyplot as plt\n",
    "from pennylane import numpy as np\n",
    "import pennylane as qml\n",
    "from qiskit_nature.operators.second_quantization import FermionicOp\n",
    "from qiskit_nature.mappers.second_quantization import JordanWignerMapper, ParityMapper\n",
    "import warnings\n",
    "warnings.filterwarnings('ignore')"
   ]
  },
  {
   "cell_type": "markdown",
   "metadata": {},
   "source": [
    "We'll also need some helper functions to parse Pauli strings and construct our pennylane Hamiltonian, so I'll just dump them here."
   ]
  },
  {
   "cell_type": "code",
   "execution_count": 5,
   "metadata": {},
   "outputs": [],
   "source": [
    "def pauli_token_to_operator(token):\n",
    "    \"\"\"\n",
    "    DO NOT MODIFY anything in this function! It is used to judge your solution.\n",
    "\n",
    "    Helper function to turn strings into qml operators.\n",
    "\n",
    "    Args:\n",
    "        token (str): A Pauli operator input in string form.\n",
    "\n",
    "    Returns:\n",
    "        A qml.Operator instance of the Pauli.\n",
    "    \"\"\"\n",
    "    qubit_terms = []\n",
    "\n",
    "    for term in range(len(token)):\n",
    "        # Special case of identity\n",
    "        if token[term] == \"I\":\n",
    "            pass\n",
    "        else:\n",
    "            #pauli, qubit_idx = term, term\n",
    "            if token[term] == \"X\":\n",
    "                qubit_terms.append(qml.PauliX(int(term)))\n",
    "            elif token[term] == \"Y\":\n",
    "                qubit_terms.append(qml.PauliY(int(term)))\n",
    "            elif token[term] == \"Z\":\n",
    "                qubit_terms.append(qml.PauliZ(int(term)))\n",
    "            else:\n",
    "                print(\"Invalid input.\")\n",
    "    if(qubit_terms==[]):\n",
    "            qubit_terms.append(qml.Identity(0))\n",
    "    full_term = qubit_terms[0]\n",
    "    for term in qubit_terms[1:]:\n",
    "        full_term = full_term @ term\n",
    "\n",
    "    return full_term\n",
    "\n",
    "\n",
    "def parse_hamiltonian_input(input_data):\n",
    "    \"\"\"\n",
    "    DO NOT MODIFY anything in this function! It is used to judge your solution.\n",
    "\n",
    "    Turns the contents of the input file into a Hamiltonian.\n",
    "\n",
    "    Args:\n",
    "        filename(str): Name of the input file that contains the Hamiltonian.\n",
    "\n",
    "    Returns:\n",
    "        qml.Hamiltonian object of the Hamiltonian specified in the file.\n",
    "    \"\"\"\n",
    "    # Get the input\n",
    "    coeffs = []\n",
    "    pauli_terms = []\n",
    "    chunks = input_data.split(\"\\n\")\n",
    "    # Go through line by line and build up the Hamiltonian\n",
    "    for line in chunks:\n",
    "        #line = line.strip()\n",
    "        tokens = line.split(\" \")\n",
    "        # Parse coefficients\n",
    "        sign, value = tokens[0][0], tokens[1]\n",
    "\n",
    "        coeff = float(value)\n",
    "        if sign == \"-\":\n",
    "            coeff *= -1\n",
    "        coeffs.append(coeff)\n",
    "\n",
    "        # Parse Pauli component\n",
    "        pauli = tokens[3]\n",
    "        \n",
    "        pauli_terms.append(pauli_token_to_operator(pauli))\n",
    "\n",
    "    return qml.Hamiltonian(coeffs, pauli_terms)\n"
   ]
  },
  {
   "cell_type": "markdown",
   "metadata": {},
   "source": [
    "Something else that will be very important is a function to compute the matrix elements $\\langle n' | (\\hat{T} + \\hat{V}) | n \\rangle$ needed for our Hamiltonian."
   ]
  },
  {
   "cell_type": "code",
   "execution_count": 6,
   "metadata": {},
   "outputs": [],
   "source": [
    "def kron(i,j):\n",
    "    if(i==j):\n",
    "        return 1\n",
    "    else:\n",
    "        return 0\n",
    "\n",
    "def matrix_element(i,j):\n",
    "    \n",
    "    ele = 0.0\n",
    "    \n",
    "    ele = ((2.0*i + 1.5)*kron(i,j) - np.sqrt(i*(i+0.5))*kron(i,j+1) \\\n",
    "    - np.sqrt((i+1)*(i+1.5))*kron(i,j-1)) * 3.5\n",
    "    \n",
    "    ele += -5.68658111 * kron(i,0) * kron(i,j)\n",
    "    \n",
    "    \n",
    "    return ele"
   ]
  },
  {
   "cell_type": "markdown",
   "metadata": {},
   "source": [
    "Lastly, we'll make a function that returns a pennylane compatible Hamiltonian given a requested basis dimension, N."
   ]
  },
  {
   "cell_type": "code",
   "execution_count": 8,
   "metadata": {},
   "outputs": [],
   "source": [
    "def deuteron_ham(N,mapper=JordanWignerMapper):\n",
    "    # Start out by zeroing what will be our fermionic operator\n",
    "    op = 0\n",
    "    for i in range(N):\n",
    "        for j in range(N):\n",
    "            # Construct the terms of the Hamiltonian in terms of creation/annihilation operators \n",
    "            op += matrix_element(i,j) * \\\n",
    "            FermionicOp([([(\"+\", i),(\"-\", j)], 1.0)])\n",
    "\n",
    "    hamstr = \"+ \"+str(mapper().map(second_q_op=op))\n",
    "\n",
    "    hamiltonian = parse_hamiltonian_input(hamstr)\n",
    "\n",
    "    return hamiltonian \n"
   ]
  },
  {
   "cell_type": "markdown",
   "metadata": {},
   "source": [
    "Let's take a look at our new Hamiltonian generator in the next code block. We'll start by setting the basis dimension to 3 so we can compare our two Hamiltonians: handcrafted and computer generated."
   ]
  },
  {
   "cell_type": "code",
   "execution_count": 12,
   "metadata": {},
   "outputs": [
    {
     "name": "stdout",
     "output_type": "stream",
     "text": [
      "Original Hamiltonian: \n",
      "   (-9.625) [Z2]\n",
      "+ (-6.125) [Z1]\n",
      "+ (0.21829) [Z0]\n",
      "+ (15.531709) [I0]\n",
      "+ (-3.91) [X1 X2]\n",
      "+ (-3.91) [Y1 Y2]\n",
      "+ (-2.1433) [X0 X1]\n",
      "+ (-2.1433) [Y0 Y1]\n",
      "Generated Hamiltonian: \n",
      "   (-9.625) [Z0]\n",
      "+ (-6.125) [Z1]\n",
      "+ (0.21829055499999983) [Z2]\n",
      "+ (15.531709445) [I0]\n",
      "+ (-3.913118960624632) [Y0 Y1]\n",
      "+ (-3.913118960624632) [X0 X1]\n",
      "+ (-2.1433035249352805) [Y1 Y2]\n",
      "+ (-2.1433035249352805) [X1 X2]\n"
     ]
    }
   ],
   "source": [
    "dim = 3\n",
    "\n",
    "# Building our Hamiltonian for the N=3 case, as before\n",
    "\n",
    "coeffs = [15.531709 ,-2.1433, -2.1433, 0.21829, -6.125, -9.625, -3.91, -3.91]\n",
    "obs = [qml.Identity(0),qml.PauliX(0) @ qml.PauliX(1), qml.PauliY(0) @ qml.PauliY(1),qml.PauliZ(0),qml.PauliZ(1),qml.PauliZ(2),qml.PauliX(1) @ qml.PauliX(2),qml.PauliY(1) @ qml.PauliY(2)]\n",
    "\n",
    "ham = qml.Hamiltonian(coeffs, obs)\n",
    "\n",
    "# Let's print it out\n",
    "\n",
    "print(\"Original Hamiltonian: \\n\",ham)\n",
    "\n",
    "# Let's now use our new function!\n",
    "\n",
    "H = deuteron_ham(dim)\n",
    "\n",
    "print(\"Generated Hamiltonian: \\n\",H)"
   ]
  },
  {
   "cell_type": "markdown",
   "metadata": {},
   "source": [
    "We still need to define our device and circuit, so we'll let them be general as well."
   ]
  },
  {
   "cell_type": "code",
   "execution_count": 13,
   "metadata": {},
   "outputs": [
    {
     "name": "stdout",
     "output_type": "stream",
     "text": [
      "Generated Hamiltonian: \n",
      "   (-9.625) [Z0]\n",
      "+ (-6.125) [Z1]\n",
      "+ (0.21829055499999983) [Z2]\n",
      "+ (15.531709445) [I0]\n",
      "+ (-3.913118960624632) [Y0 Y1]\n",
      "+ (-3.913118960624632) [X0 X1]\n",
      "+ (-2.1433035249352805) [Y1 Y2]\n",
      "+ (-2.1433035249352805) [X1 X2]\n"
     ]
    }
   ],
   "source": [
    "dim = 3\n",
    "\n",
    "# In this case we now need 3 qubits\n",
    "\n",
    "dev = qml.device(\"default.qubit\", wires=dim)\n",
    "\n",
    "# Defining our ansatz circuit for the N=3 case\n",
    "\n",
    "def circuit(params,wires):\n",
    "    t0 = params[0]\n",
    "    t1 = params[1]\n",
    "    qml.PauliX(wires=0)\n",
    "    qml.RY(t1, wires=1)\n",
    "    qml.RY(t0, wires=2)\n",
    "    qml.CNOT(wires=[2,0])\n",
    "    qml.CNOT(wires=[0,1])\n",
    "    qml.RY(-t1, wires=1)\n",
    "    qml.CNOT(wires=[0,1])\n",
    "    qml.CNOT(wires=[1,0])\n",
    "\n",
    "# Defining Hamiltonian\n",
    "\n",
    "H = deuteron_ham(dim)\n",
    "\n",
    "print(\"Generated Hamiltonian: \\n\",H)\n",
    "\n",
    "cost_fn = qml.ExpvalCost(circuit, H, dev)\n"
   ]
  },
  {
   "cell_type": "markdown",
   "metadata": {},
   "source": [
    "Amazing! That's an even better looking Hamiltonian!\n",
    "\n",
    "Now we'll set up what we'll need for the VQE procedure; namely some initial parameters and convergence info. You can select the initial guess randomly, but in this case we'll set it manually for repeatability.\n",
    "\n",
    "In this case, we also need an additional parameter as mentioned when we set up our circuit."
   ]
  },
  {
   "cell_type": "code",
   "execution_count": 14,
   "metadata": {},
   "outputs": [],
   "source": [
    "# Our parameter array, only one lonely element in this case :c\n",
    "\n",
    "init_params = np.array([2.5,4.5])\n",
    "\n",
    "# Convergence information and step size\n",
    "\n",
    "max_iterations = 500\n",
    "conv_tol = 1e-06\n",
    "step_size = 0.01"
   ]
  },
  {
   "cell_type": "markdown",
   "metadata": {},
   "source": [
    "Finally, the VQE block. We're still using the standard gradient descent optimizer since it worked so well before, but soon the time will come to shop around for better options."
   ]
  },
  {
   "cell_type": "code",
   "execution_count": 15,
   "metadata": {},
   "outputs": [
    {
     "name": "stdout",
     "output_type": "stream",
     "text": [
      "Iteration = 0,  Energy = 2.62754488 MeV,  Convergence parameter = 0.41528526 MeV\n",
      "Iteration = 20,  Energy = -1.45759287 MeV,  Convergence parameter = 0.07290178 MeV\n",
      "Iteration = 40,  Energy = -1.98314671 MeV,  Convergence parameter = 0.00676702 MeV\n",
      "Iteration = 60,  Energy = -2.03668718 MeV,  Convergence parameter = 0.00089606 MeV\n",
      "Iteration = 80,  Energy = -2.04435261 MeV,  Convergence parameter = 0.00013419 MeV\n",
      "Iteration = 100,  Energy = -2.04548435 MeV,  Convergence parameter = 0.00001928 MeV\n",
      "Iteration = 120,  Energy = -2.04564498 MeV,  Convergence parameter = 0.00000269 MeV\n",
      "\n",
      "Final value of the energy = -2.04566218 MeV\n",
      "Number of iterations =  131\n"
     ]
    }
   ],
   "source": [
    "opt = qml.GradientDescentOptimizer(stepsize=step_size)\n",
    "\n",
    "params = init_params\n",
    "\n",
    "gd_param_history = [params]\n",
    "gd_cost_history = []\n",
    "\n",
    "for n in range(max_iterations):\n",
    "\n",
    "    # Take a step in parameter space and record your energy\n",
    "    params, prev_energy = opt.step_and_cost(cost_fn, params)\n",
    "\n",
    "    # This keeps track of our energy for plotting at comparisons\n",
    "    gd_param_history.append(params)\n",
    "    gd_cost_history.append(prev_energy)\n",
    "\n",
    "    # Here we see what the energy of our system is with the new parameters\n",
    "    energy = cost_fn(params)\n",
    "\n",
    "    # Calculate difference between new and old energies\n",
    "    conv = np.abs(energy - prev_energy)\n",
    "\n",
    "    if n % 20 == 0:\n",
    "        print(\n",
    "            \"Iteration = {:},  Energy = {:.8f} MeV,  Convergence parameter = {\"\n",
    "            \":.8f} MeV\".format(n, energy, conv)\n",
    "        )\n",
    "\n",
    "    if conv <= conv_tol:\n",
    "        break\n",
    "\n",
    "print()\n",
    "print(\"Final value of the energy = {:.8f} MeV\".format(energy))\n",
    "print(\"Number of iterations = \", n)"
   ]
  },
  {
   "cell_type": "markdown",
   "metadata": {},
   "source": [
    "As expected, we get closer to the true value with our expanded basis, though we're not all the way there. We still match our reference value very well, meaning we're on the right track for building out our robust nuclear VQE framework, so good job team!\n",
    "\n",
    "Let's plot the convergence next and see if going to 2-D hurt us any."
   ]
  },
  {
   "cell_type": "code",
   "execution_count": 16,
   "metadata": {},
   "outputs": [
    {
     "data": {
      "image/png": "[encoded data removed]",
      "text/plain": [
       "<Figure size 576x396 with 1 Axes>"
      ]
     },
     "metadata": {},
     "output_type": "display_data"
    }
   ],
   "source": [
    "plt.style.use(\"seaborn\")\n",
    "plt.plot(gd_cost_history, \"b\", label=\"Gradient descent\")\n",
    "\n",
    "plt.ylabel(\"Energy (MeV)\")\n",
    "plt.xlabel(\"Optimization steps\")\n",
    "plt.legend()\n",
    "plt.show()"
   ]
  },
  {
   "cell_type": "markdown",
   "metadata": {},
   "source": [
    "Since we are now allowed to move in higher dimensions, making a general PES plotter gets a little tricky, but feel free to play around and see if you can think of clever ways to plot how your solution explores the space!\n",
    "\n",
    "This pretty much concludes our exploration of quantum computing for the deuteron from the point of view of Hamiltonian and state preparation, but there's plenty of other things that can be tried to improve performance! One approach would involce optimizing the ansatz instead of using a generic form, which could be a fun challenge. Another approach is to speed up the VQE algorithm itself, which is exactly what we'll be doing in the next section!"
   ]
  }
 ],
 "metadata": {
  "kernelspec": {
   "display_name": "Python 3.10.4 64-bit",
   "language": "python",
   "name": "python3"
  },
  "language_info": {
   "codemirror_mode": {
    "name": "ipython",
    "version": 3
   },
   "file_extension": ".py",
   "mimetype": "text/x-python",
   "name": "python",
   "nbconvert_exporter": "python",
   "pygments_lexer": "ipython3",
   "version": "3.10.4"
  },
  "orig_nbformat": 4,
  "vscode": {
   "interpreter": {
    "hash": "e7370f93d1d0cde622a1f8e1c04877d8463912d04d973331ad4851f04de6915a"
   }
  }
 },
 "nbformat": 4,
 "nbformat_minor": 2
}
